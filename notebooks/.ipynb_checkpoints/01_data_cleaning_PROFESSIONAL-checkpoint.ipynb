{
 "cells": [
  {
   "cell_type": "markdown",
   "id": "88eaa401",
   "metadata": {},
   "source": [
    "---\n",
    "\n",
    "# 📝 Notebook Summary: Step 1 – Data Cleaning & Preparation\n",
    "\n",
    "This notebook performs the foundational data preprocessing required to enable predictive modeling for smart farming machinery.\n",
    "\n",
    "---\n",
    "\n",
    "## 📌 Objectives\n",
    "\n",
    "- Load high-frequency synthetic sensor data\n",
    "- Parse timestamps and standardize columns\n",
    "- Validate data integrity (missing values, shape)\n",
    "- Explore key categorical variables (e.g., operating mode)\n",
    "- Save a cleaned dataset for further processing\n",
    "\n",
    "---\n",
    "\n",
    "## 🔍 Section-by-Section Overview\n",
    "\n",
    "### 1. **Import & Setup**\n",
    "- Loaded essential libraries (`pandas`, `numpy`, `matplotlib`, `seaborn`)\n",
    "- Used `Pathlib` for OS-agnostic file management\n",
    "- Defined `RAW_DATA_PATH` and `PROCESSED_DATA_PATH` for I/O separation\n",
    "\n",
    "### 2. **Data Loading**\n",
    "- Loaded the raw CSV file and explicitly renamed all columns to meaningful headers\n",
    "- Ensures clarity and consistent downstream processing\n",
    "\n",
    "### 3. **Initial Inspection**\n",
    "- Displayed `df.head()` and dataset shape to verify successful loading\n",
    "- Confirmed that the structure matches expectations\n",
    "\n",
    "### 4. **Timestamp Parsing**\n",
    "- Converted the `timestamp` column to `datetime` format using `pd.to_datetime`\n",
    "- Enables time-series operations, rolling features, and sorting\n",
    "\n",
    "### 5. **Missing Values**\n",
    "- Checked for nulls across all columns using `df.isnull().sum()`\n",
    "- No missing data was found, so no imputation was necessary\n",
    "\n",
    "### 6. **Summary Statistics**\n",
    "- `df.describe()` helped detect outliers and confirmed valid sensor ranges\n",
    "- Highlights important distributions (e.g., motor current range, torque variability)\n",
    "\n",
    "### 7. **Operating Mode Check**\n",
    "- Explored unique categories in `operating_mode`\n",
    "- Ensures correct categorization before encoding in later stages\n",
    "\n",
    "### 8. **Sorting and Saving**\n",
    "- Sorted data by `machine_id` and `timestamp` to preserve time-series continuity\n",
    "- Exported cleaned data to `data/processed/agri_sensor_data_cleaned.csv`\n",
    "\n",
    "---\n",
    "\n",
    "## 📈 Recommendations\n",
    "\n",
    "- Add a few exploratory time-series plots (e.g., `torque`, `vibration_level` over time)\n",
    "- Log the number of unique timestamps per machine to detect duplicates\n",
    "- Summarize row counts per operating mode or machine\n",
    "\n",
    "---\n",
    "\n",
    "## 🔗 Link to Next Notebook\n",
    "\n",
    "The cleaned dataset is now ready for `02_feature_engineering.ipynb`, where we will:\n",
    "- Generate rolling features (mean, std, etc.)\n",
    "- One-hot encode operational modes\n",
    "- Prepare the final feature matrix `X` for modeling\n",
    "\n",
    "---\n",
    "\n",
    "✅ **Status**: Data successfully cleaned and exported. Ready for feature engineering.\n"
   ]
  },
  {
   "cell_type": "code",
   "execution_count": 1,
   "id": "2d561a4e",
   "metadata": {},
   "outputs": [],
   "source": [
    "# 📦 Import Required Libraries\n",
    "# These libraries are used for data handling, visualization, and path management.\n",
    "\n",
    "import pandas as pd\n",
    "import numpy as np\n",
    "import matplotlib.pyplot as plt\n",
    "import seaborn as sns\n",
    "from pathlib import Path\n"
   ]
  },
  {
   "cell_type": "code",
   "execution_count": 2,
   "id": "df380a6a",
   "metadata": {},
   "outputs": [],
   "source": [
    "# 📂 Define File Paths\n",
    "# Setting up paths to load raw data and later save processed outputs.\n",
    "\n",
    "RAW_DATA_PATH = Path(\"../data/raw/agri_synthetic_sensor_data.csv\")\n",
    "PROCESSED_DATA_PATH = Path(\"../data/processed/agri_sensor_data_cleaned.csv\")\n"
   ]
  },
  {
   "cell_type": "code",
   "execution_count": 3,
   "id": "1e544f20",
   "metadata": {},
   "outputs": [],
   "source": [
    "# 📥 Load Raw Sensor Data\n",
    "# The dataset includes sensor logs from agricultural machinery.\n",
    "# Column headers are defined explicitly to replace default unnamed headers.\n",
    "\n",
    "column_names = ['timestamp', 'machine_id', 'vibration_level', 'motor_current',\n",
    "                'ambient_temp', 'motor_temp', 'torque', 'rpm', 'operating_mode',\n",
    "                'failure_label', 'remaining_minutes']\n",
    "\n",
    "df = pd.read_csv(RAW_DATA_PATH)\n",
    "df.columns = column_names\n"
   ]
  },
  {
   "cell_type": "code",
   "execution_count": 4,
   "id": "954bc411",
   "metadata": {},
   "outputs": [
    {
     "name": "stdout",
     "output_type": "stream",
     "text": [
      "✅ Raw dataset loaded. Shape: (32400, 11)\n",
      "             timestamp  machine_id  vibration_level  motor_current  \\\n",
      "0  2024-06-01 08:00:00           1         0.553126      53.947485   \n",
      "1  2024-06-01 08:00:01           1         0.332621      52.479691   \n",
      "2  2024-06-01 08:00:02           1         0.309272      22.995413   \n",
      "3  2024-06-01 08:00:03           1         0.320388      47.664084   \n",
      "4  2024-06-01 08:00:04           1         0.544413      19.224424   \n",
      "\n",
      "   ambient_temp  motor_temp      torque          rpm operating_mode  \\\n",
      "0     23.379140   45.343130  120.754989  2105.975012           idle   \n",
      "1     26.513821   46.432882  242.454425  2350.921787      hydraulic   \n",
      "2     21.509210   44.396522  116.864833  2296.847784       traction   \n",
      "3     25.270313   52.550659  251.358248  1621.819025       traction   \n",
      "4     25.955789   53.209899  110.452437  1969.956101           idle   \n",
      "\n",
      "   failure_label  remaining_minutes  \n",
      "0              0                559  \n",
      "1              0                854  \n",
      "2              0                681  \n",
      "3              0                968  \n",
      "4              0                677  \n"
     ]
    }
   ],
   "source": [
    "# 🔍 Quick Dataset Preview\n",
    "# Check the structure and initial rows to verify import success.\n",
    "\n",
    "print(\"✅ Raw dataset loaded. Shape:\", df.shape)\n",
    "print(df.head())\n"
   ]
  },
  {
   "cell_type": "code",
   "execution_count": 5,
   "id": "f924909f",
   "metadata": {},
   "outputs": [],
   "source": [
    "# ⏱️ Parse Timestamps\n",
    "# Convert 'timestamp' column from string to datetime format for time-based operations.\n",
    "\n",
    "df['timestamp'] = pd.to_datetime(df['timestamp'])\n"
   ]
  },
  {
   "cell_type": "code",
   "execution_count": 6,
   "id": "d40e06e7",
   "metadata": {},
   "outputs": [
    {
     "name": "stdout",
     "output_type": "stream",
     "text": [
      "Missing values per column:\n",
      "Series([], dtype: int64)\n"
     ]
    }
   ],
   "source": [
    "# 🧪 Check for Missing Values\n",
    "# Ensure data completeness before further processing.\n",
    "\n",
    "missing = df.isnull().sum()\n",
    "print(\"Missing values per column:\")\n",
    "print(missing[missing > 0])\n"
   ]
  },
  {
   "cell_type": "code",
   "execution_count": 7,
   "id": "3774f429",
   "metadata": {},
   "outputs": [
    {
     "name": "stdout",
     "output_type": "stream",
     "text": [
      "         machine_id  vibration_level  motor_current  ambient_temp  \\\n",
      "count  32400.000000     32400.000000   32400.000000  32400.000000   \n",
      "mean       2.000000         0.349868      40.143722     24.002885   \n",
      "std        0.816509         0.120284      14.904560      2.996791   \n",
      "min        1.000000         0.000000       5.000000     12.002003   \n",
      "25%        1.000000         0.267829      30.019147     21.991123   \n",
      "50%        2.000000         0.350388      40.085331     24.014464   \n",
      "75%        3.000000         0.431970      50.162418     26.004566   \n",
      "max        3.000000         0.799446      97.446733     36.606078   \n",
      "\n",
      "         motor_temp        torque           rpm  failure_label  \\\n",
      "count  32400.000000  32400.000000  32400.000000   32400.000000   \n",
      "mean      44.011202    220.081366   1848.814807       0.001852   \n",
      "std        4.969155     59.342229    250.051818       0.042994   \n",
      "min       24.391863     80.000000    849.100487       0.000000   \n",
      "25%       40.683464    179.503812   1681.250720       0.000000   \n",
      "50%       44.010620    219.592498   1851.612368       0.000000   \n",
      "75%       47.368328    260.134702   2017.884557       0.000000   \n",
      "max       64.962635    450.000000   2795.546962       1.000000   \n",
      "\n",
      "       remaining_minutes  \n",
      "count       32400.000000  \n",
      "mean          749.479691  \n",
      "std           261.689933  \n",
      "min             1.000000  \n",
      "25%           525.000000  \n",
      "50%           751.000000  \n",
      "75%           976.000000  \n",
      "max          1199.000000  \n"
     ]
    }
   ],
   "source": [
    "# 📊 Summary Statistics\n",
    "# Get statistical overview of the dataset: mean, std, min, max for each numerical column.\n",
    "\n",
    "print(df.describe())\n"
   ]
  },
  {
   "cell_type": "code",
   "execution_count": 8,
   "id": "bbf40041",
   "metadata": {},
   "outputs": [
    {
     "name": "stdout",
     "output_type": "stream",
     "text": [
      "Operating Modes: ['idle' 'hydraulic' 'traction' 'pto']\n"
     ]
    }
   ],
   "source": [
    "# 🚜 Unique Operating Modes\n",
    "# Explore which operational states are logged in the data.\n",
    "\n",
    "print(\"Operating Modes:\", df['operating_mode'].unique())\n"
   ]
  },
  {
   "cell_type": "code",
   "execution_count": 9,
   "id": "d9774cb6",
   "metadata": {},
   "outputs": [
    {
     "name": "stdout",
     "output_type": "stream",
     "text": [
      "💾 Cleaned dataset saved to: ..\\data\\processed\\agri_sensor_data_cleaned.csv\n"
     ]
    }
   ],
   "source": [
    "# 🗃️ Sort and Save\n",
    "# Sort the data by machine and time to prepare for time-series modeling.\n",
    "\n",
    "df = df.sort_values(by=['machine_id', 'timestamp'])\n",
    "df.to_csv(PROCESSED_DATA_PATH, index=False)\n",
    "print(f\"💾 Cleaned dataset saved to: {PROCESSED_DATA_PATH}\")\n"
   ]
  }
 ],
 "metadata": {
  "kernelspec": {
   "display_name": "Python 3 (ipykernel)",
   "language": "python",
   "name": "python3"
  },
  "language_info": {
   "codemirror_mode": {
    "name": "ipython",
    "version": 3
   },
   "file_extension": ".py",
   "mimetype": "text/x-python",
   "name": "python",
   "nbconvert_exporter": "python",
   "pygments_lexer": "ipython3",
   "version": "3.11.4"
  }
 },
 "nbformat": 4,
 "nbformat_minor": 5
}

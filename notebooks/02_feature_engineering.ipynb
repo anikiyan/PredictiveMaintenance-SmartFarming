{
 "cells": [
  {
   "cell_type": "code",
   "execution_count": 1,
   "id": "c70761b5",
   "metadata": {},
   "outputs": [
    {
     "name": "stdout",
     "output_type": "stream",
     "text": [
      "✅ Cleaned dataset loaded. Shape: (32400, 11)\n",
      "💾 Feature-engineered dataset saved to ..\\data\\processed\\agri_features.csv\n",
      "📊 Final shape: (32400, 33)\n"
     ]
    }
   ],
   "source": [
    "# 02_feature_engineering.ipynb\n",
    "\n",
    "import pandas as pd\n",
    "import numpy as np\n",
    "import matplotlib.pyplot as plt\n",
    "import seaborn as sns\n",
    "from pathlib import Path\n",
    "\n",
    "# Set up\n",
    "sns.set(style=\"darkgrid\")\n",
    "INPUT_PATH = Path(\"../data/processed/agri_sensor_data_cleaned.csv\")\n",
    "OUTPUT_PATH = Path(\"../data/processed/agri_features.csv\")\n",
    "\n",
    "# Load cleaned data\n",
    "df = pd.read_csv(INPUT_PATH, parse_dates=['timestamp'])\n",
    "print(\"✅ Cleaned dataset loaded. Shape:\", df.shape)\n",
    "\n",
    "# Sort by machine and time\n",
    "df = df.sort_values(by=['machine_id', 'timestamp'])\n",
    "\n",
    "# Create rolling window features\n",
    "window_size = 30  # 30 seconds\n",
    "sensor_cols = ['vibration_level', 'motor_current', 'motor_temp', 'torque', 'rpm']\n",
    "\n",
    "for col in sensor_cols:\n",
    "    df[f'{col}_mean'] = df.groupby('machine_id')[col].transform(lambda x: x.rolling(window_size, min_periods=1).mean())\n",
    "    df[f'{col}_std'] = df.groupby('machine_id')[col].transform(lambda x: x.rolling(window_size, min_periods=1).std())\n",
    "    df[f'{col}_min'] = df.groupby('machine_id')[col].transform(lambda x: x.rolling(window_size, min_periods=1).min())\n",
    "    df[f'{col}_max'] = df.groupby('machine_id')[col].transform(lambda x: x.rolling(window_size, min_periods=1).max())\n",
    "\n",
    "# Fill NaNs from std\n",
    "df.fillna(0, inplace=True)\n",
    "\n",
    "# Encode categorical operating_mode\n",
    "df = pd.get_dummies(df, columns=['operating_mode'])\n",
    "\n",
    "# Drop columns not used for modeling\n",
    "df_model = df.drop(columns=['timestamp'])  # keep only numerical features for now\n",
    "\n",
    "# Save engineered dataset\n",
    "df_model.to_csv(OUTPUT_PATH, index=False)\n",
    "print(f\"💾 Feature-engineered dataset saved to {OUTPUT_PATH}\")\n",
    "print(\"📊 Final shape:\", df_model.shape)\n"
   ]
  },
  {
   "cell_type": "code",
   "execution_count": null,
   "id": "b83e1bd9",
   "metadata": {},
   "outputs": [],
   "source": []
  }
 ],
 "metadata": {
  "kernelspec": {
   "display_name": "Python 3 (ipykernel)",
   "language": "python",
   "name": "python3"
  },
  "language_info": {
   "codemirror_mode": {
    "name": "ipython",
    "version": 3
   },
   "file_extension": ".py",
   "mimetype": "text/x-python",
   "name": "python",
   "nbconvert_exporter": "python",
   "pygments_lexer": "ipython3",
   "version": "3.11.4"
  }
 },
 "nbformat": 4,
 "nbformat_minor": 5
}
